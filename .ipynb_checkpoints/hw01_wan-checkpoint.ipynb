{
 "cells": [
  {
   "cell_type": "code",
   "execution_count": 48,
   "metadata": {},
   "outputs": [],
   "source": [
    "import scipy\n",
    "from scipy.io import loadmat\n",
    "import math as m\n",
    "import numpy as np"
   ]
  },
  {
   "cell_type": "code",
   "execution_count": null,
   "metadata": {},
   "outputs": [],
   "source": []
  },
  {
   "cell_type": "code",
   "execution_count": null,
   "metadata": {},
   "outputs": [],
   "source": []
  },
  {
   "cell_type": "code",
   "execution_count": null,
   "metadata": {},
   "outputs": [],
   "source": []
  },
  {
   "cell_type": "code",
   "execution_count": 18,
   "metadata": {},
   "outputs": [
    {
     "name": "stdout",
     "output_type": "stream",
     "text": [
      "[1.84207953 4.6075716 ]\n"
     ]
    }
   ],
   "source": [
    "data = scipy.io.loadmat('kmeans-data.mat')\n",
    "X = data['X']\n",
    "print(X[0])\n",
    "#print(X)"
   ]
  },
  {
   "cell_type": "code",
   "execution_count": null,
   "metadata": {},
   "outputs": [],
   "source": [
    "\n",
    "\n"
   ]
  },
  {
   "cell_type": "markdown",
   "metadata": {},
   "source": [
    "1. pick random centroids\n",
    "2. calculate distance between xi and centroids\n",
    "3. find min\n",
    "\n",
    "output: index of the closest centroid to every training example"
   ]
  },
  {
   "cell_type": "code",
   "execution_count": 80,
   "metadata": {},
   "outputs": [
    {
     "name": "stdout",
     "output_type": "stream",
     "text": [
      "{0: [], 1: [], 2: []}\n",
      "{0: array([1.84207953, 4.6075716 ]), 1: array([5.65858312, 4.79996405]), 2: array([6.35257892, 3.2908545 ])}\n"
     ]
    }
   ],
   "source": [
    "k = 3\n",
    "clusters = {}\n",
    "centroids = {}\n",
    "\n",
    "for i in range(k):\n",
    "    clusters[i] = []\n",
    "print(clusters)\n",
    "\n",
    "#pick random cluster\n",
    "\n",
    "for i in range(k):\n",
    "    centroids[i] = X[i]\n",
    "print(centroids)\n"
   ]
  },
  {
   "cell_type": "code",
   "execution_count": 89,
   "metadata": {},
   "outputs": [
    {
     "name": "stdout",
     "output_type": "stream",
     "text": [
      "[0, 1, 2, 0, 0, 0, 0, 0, 0, 0, 0, 0, 0, 0, 0, 0, 1, 0, 0, 0, 0, 0, 0, 0, 0, 0, 0, 0, 0, 0, 0, 0, 0, 0, 0, 0, 0, 0, 0, 0, 0, 0, 0, 0, 0, 0, 0, 1, 0, 0, 0, 0, 0, 0, 0, 0, 0, 0, 0, 0, 0, 0, 0, 0, 0, 0, 0, 0, 0, 0, 0, 0, 0, 0, 0, 0, 0, 0, 0, 0, 0, 0, 0, 0, 1, 0, 0, 0, 0, 0, 0, 0, 0, 0, 0, 1, 0, 0, 0, 0, 2, 0, 2, 0, 2, 0, 2, 2, 0, 2, 0, 0, 0, 2, 0, 0, 0, 0, 2, 0, 0, 2, 2, 2, 2, 0, 0, 2, 0, 0, 2, 2, 0, 0, 0, 0, 0, 0, 2, 2, 2, 2, 0, 0, 0, 2, 0, 2, 0, 0, 0, 0, 0, 0, 0, 0, 0, 0, 2, 2, 2, 2, 0, 2, 0, 0, 0, 0, 0, 2, 0, 2, 0, 2, 2, 0, 2, 2, 0, 0, 0, 0, 0, 2, 2, 2, 0, 2, 0, 0, 0, 0, 0, 2, 0, 0, 2, 0, 0, 0, 2, 2, 2, 2, 2, 2, 2, 2, 2, 2, 2, 2, 2, 2, 2, 2, 2, 2, 2, 2, 2, 2, 2, 2, 2, 2, 2, 2, 2, 2, 2, 2, 2, 2, 2, 2, 2, 2, 2, 2, 2, 2, 2, 2, 2, 2, 2, 2, 2, 2, 2, 2, 2, 2, 2, 2, 2, 2, 2, 2, 2, 2, 2, 2, 2, 0, 2, 2, 2, 2, 2, 2, 2, 2, 2, 2, 2, 2, 2, 1, 2, 2, 2, 2, 2, 2, 2, 2, 2, 2, 2, 2, 2, 2, 2, 2, 2, 2, 2, 0]\n"
     ]
    }
   ],
   "source": [
    "\n",
    "# def find_closest_centroids(X,K):\n",
    "#     '''returns 1-D array of clusters that holds the index of the closest centroid to every training sample'''\n",
    "\n",
    "\n",
    "\n",
    "\n",
    "#key: centroid, val:distance\n",
    "alldist2 = {}\n",
    "#min distance index\n",
    "minv = []\n",
    "for row in X:\n",
    "    for c in range(len(centroids)):\n",
    "        #clculates distance\n",
    "        dist = m.sqrt((centroids[c][0] - row[0])**2 + (centroids[c][1] - row[1])**2)\n",
    "        #distance dic for all centroids\n",
    "        alldist2[c] = dist\n",
    "    #converts dic val to list for every row \n",
    "    rowvals = list(alldist2.values())\n",
    "    #gets index of min\n",
    "    mindist = rowvals.index(min(rowvals))\n",
    "    minv.append(mindist)\n",
    "\n",
    "    \n",
    "    \n",
    "print(minv)\n"
   ]
  },
  {
   "cell_type": "code",
   "execution_count": 19,
   "metadata": {},
   "outputs": [
    {
     "name": "stdout",
     "output_type": "stream",
     "text": [
      "[0, 1, 2, 0, 0, 0, 0, 0, 0, 0, 0, 0, 0, 0, 0, 0, 1, 0, 0, 0, 0, 0, 0, 0, 0, 0, 0, 0, 0, 0, 0, 0, 0, 0, 0, 0, 0, 0, 0, 0, 0, 0, 0, 0, 0, 0, 0, 1, 0, 0, 0, 0, 0, 0, 0, 0, 0, 0, 0, 0, 0, 0, 0, 0, 0, 0, 0, 0, 0, 0, 0, 0, 0, 0, 0, 0, 0, 0, 0, 0, 0, 0, 0, 0, 1, 0, 0, 0, 0, 0, 0, 0, 0, 0, 0, 1, 0, 0, 0, 0, 2, 0, 2, 0, 2, 0, 2, 2, 0, 2, 0, 0, 0, 2, 0, 0, 0, 0, 2, 0, 0, 2, 2, 2, 2, 0, 0, 2, 0, 0, 2, 2, 0, 0, 0, 0, 0, 0, 2, 2, 2, 2, 0, 0, 0, 2, 0, 2, 0, 0, 0, 0, 0, 0, 0, 0, 0, 0, 2, 2, 2, 2, 0, 2, 0, 0, 0, 0, 0, 2, 0, 2, 0, 2, 2, 0, 2, 2, 0, 0, 0, 0, 0, 2, 2, 2, 0, 2, 0, 0, 0, 0, 0, 2, 0, 0, 2, 0, 0, 0, 2, 2, 2, 2, 2, 2, 2, 2, 2, 2, 2, 2, 2, 2, 2, 2, 2, 2, 2, 2, 2, 2, 2, 2, 2, 2, 2, 2, 2, 2, 2, 2, 2, 2, 2, 2, 2, 2, 2, 2, 2, 2, 2, 2, 2, 2, 2, 2, 2, 2, 2, 2, 2, 2, 2, 2, 2, 2, 2, 2, 2, 2, 2, 2, 2, 0, 2, 2, 2, 2, 2, 2, 2, 2, 2, 2, 2, 2, 2, 1, 2, 2, 2, 2, 2, 2, 2, 2, 2, 2, 2, 2, 2, 2, 2, 2, 2, 2, 2, 0]\n"
     ]
    }
   ],
   "source": [
    "K=3\n",
    "centroids = X[0:K,:]\n",
    "results = []\n",
    "for row in range(X.shape[0]): # shape 0 = rows 300\n",
    "    #difference between sample and centroid\n",
    "    diff = X[row] - centroids  #1X2  - 3x2 = 3x2 \n",
    "    distance = (diff[:,0] **2 + diff[:,1] **2) ** .5\n",
    "    results.append(np.argmin(distance))\n",
    "print(results)"
   ]
  },
  {
   "cell_type": "code",
   "execution_count": 111,
   "metadata": {},
   "outputs": [
    {
     "name": "stdout",
     "output_type": "stream",
     "text": [
      "[[ 0.          0.        ]\n",
      " [-3.81650359 -0.19239245]\n",
      " [-4.51049939  1.31671711]]\n",
      "0\n"
     ]
    }
   ],
   "source": [
    "diff = X[0] - centroids\n",
    "print(diff)\n",
    "dist = (diff[:,0] **2 + diff[:,1] **2) ** .5\n",
    "print(np.argmin(dist))"
   ]
  },
  {
   "cell_type": "code",
   "execution_count": 21,
   "metadata": {},
   "outputs": [],
   "source": [
    "def find_closest_centroids(samples, centroids):\n",
    "    \"\"\"\n",
    "    Find the closest centroid for all samples.\n",
    "\n",
    "    :param samples: samples.\n",
    "    :param centroids: an array of centroids.\n",
    "    :return: a list of cluster_id assignment.\n",
    "    \"\"\"\n",
    "    \n",
    "    results = []\n",
    "    for row in range(samples.shape[0]): # shape 0 = rows 300\n",
    "        #difference between sample and centroid\n",
    "        diff = samples[row] - centroids  #1X2  - 3x2 = 3x2 \n",
    "        distance = (diff[:,0] **2 + diff[:,1] **2) ** .5\n",
    "        results.append(np.argmin(distance))\n",
    "    return results"
   ]
  },
  {
   "cell_type": "code",
   "execution_count": 22,
   "metadata": {},
   "outputs": [
    {
     "name": "stdout",
     "output_type": "stream",
     "text": [
      "[0, 2, 1, 0, 0, 0, 0, 0, 0, 0, 0, 0, 0, 0, 0, 0, 0, 0, 0, 0, 0, 0, 0, 0, 0, 0, 0, 0, 0, 0, 0, 0, 0, 0, 0, 0, 0, 0, 0, 0, 0, 0, 0, 0, 0, 0, 0, 0, 0, 0, 0, 0, 0, 0, 0, 0, 0, 0, 0, 0, 0, 0, 0, 0, 0, 0, 0, 0, 0, 0, 0, 0, 0, 0, 0, 0, 0, 0, 0, 0, 0, 0, 0, 0, 0, 0, 0, 0, 0, 0, 0, 0, 0, 0, 0, 0, 0, 0, 0, 0, 0, 0, 0, 0, 1, 0, 0, 0, 0, 1, 0, 0, 0, 1, 0, 0, 0, 0, 0, 0, 0, 1, 0, 1, 1, 0, 0, 0, 0, 0, 0, 0, 0, 0, 0, 0, 0, 0, 1, 0, 1, 0, 0, 0, 0, 1, 0, 0, 0, 0, 0, 0, 0, 0, 0, 0, 0, 0, 0, 0, 0, 0, 0, 1, 0, 0, 0, 0, 0, 1, 0, 0, 0, 1, 0, 0, 0, 0, 0, 0, 0, 0, 0, 0, 0, 0, 0, 1, 0, 0, 0, 0, 0, 0, 0, 0, 1, 0, 0, 0, 1, 1, 1, 1, 1, 1, 1, 1, 1, 1, 2, 1, 1, 1, 1, 1, 1, 1, 2, 1, 1, 1, 1, 1, 1, 1, 1, 1, 1, 1, 1, 1, 1, 1, 1, 1, 1, 1, 1, 0, 1, 0, 1, 2, 1, 2, 1, 1, 1, 1, 1, 1, 1, 1, 1, 1, 1, 1, 1, 1, 1, 0, 1, 1, 1, 0, 1, 1, 1, 1, 1, 1, 1, 0, 1, 1, 1, 0, 1, 1, 1, 1, 1, 1, 1, 1, 1, 1, 1, 1, 1, 1, 1, 1, 1, 2, 1, 1, 1, 0]\n"
     ]
    }
   ],
   "source": [
    "initial_centroids = np.array([[3, 3], [6, 2], [8, 5]])\n",
    "datafile = 'kmeans-data.mat'\n",
    "mat = scipy.io.loadmat(datafile)\n",
    "samples = mat['X']\n",
    "\n",
    "res = find_closest_centroids(samples, initial_centroids)\n",
    "print(res)"
   ]
  },
  {
   "cell_type": "code",
   "execution_count": null,
   "metadata": {},
   "outputs": [],
   "source": [
    "for row in range(samples.shape[0]):\n",
    "    samples[row] "
   ]
  },
  {
   "cell_type": "code",
   "execution_count": 23,
   "metadata": {},
   "outputs": [
    {
     "name": "stdout",
     "output_type": "stream",
     "text": [
      "[[2.42830111 3.15792418]\n",
      " [5.81350331 2.63365645]\n",
      " [7.11938687 3.6166844 ]]\n"
     ]
    }
   ],
   "source": [
    "cent0 = []\n",
    "cent1 = []\n",
    "cent2 = []\n",
    "\n",
    "for i in range(len(res)):\n",
    "    if res[i] == 0:\n",
    "        cent0.append(i)\n",
    "    if res[i] == 1:\n",
    "        cent1.append(i)\n",
    "    if res[i] == 2: \n",
    "        cent2.append(i)\n",
    "\n",
    "#get rows that belong to diff clusters\n",
    "centroid0 = np.sum(samples[cent0,:], axis=0)/len(cent0)\n",
    "centroid1 = np.mean(samples[cent1,:], axis=0)\n",
    "centroid2 = np.sum(samples[cent2,:], axis=0)/len(cent2)\n",
    "new_centroids = np.concatenate((centroid0,centroid1,centroid2), axis=0)\n",
    "new_centroids = new_centroids.reshape((3,2))\n",
    "print(new_centroids)"
   ]
  },
  {
   "cell_type": "code",
   "execution_count": 178,
   "metadata": {},
   "outputs": [
    {
     "name": "stdout",
     "output_type": "stream",
     "text": [
      "[5.81350331 2.63365645]\n",
      "[2.42830111 3.15792418]\n",
      "[2.42830111 3.15792418]\n",
      "[7.11938687 3.6166844 ]\n"
     ]
    }
   ],
   "source": [
    "print(np.mean(samples[cent1,:], axis=0))\n",
    "#print(np.sum(samples[cent1,:], axis=0))\n",
    "print(np.sum(samples[cent0,:], axis=0)/len(cent0))\n",
    "print(np.mean(samples[cent0,:], axis=0))\n",
    "\n",
    "print(np.sum(samples[cent2,:], axis=0)/len(cent2))"
   ]
  },
  {
   "cell_type": "code",
   "execution_count": 154,
   "metadata": {},
   "outputs": [
    {
     "name": "stdout",
     "output_type": "stream",
     "text": [
      "[0, 2, 1, 0, 0, 0, 0, 0, 0, 0, 0, 0, 0, 0, 0, 0, 0, 0, 0, 0, 0, 0, 0, 0, 0, 0, 0, 0, 0, 0, 0, 0, 0, 0, 0, 0, 0, 0, 0, 0, 0, 0, 0, 0, 0, 0, 0, 0, 0, 0, 0, 0, 0, 0, 0, 0, 0, 0, 0, 0, 0, 0, 0, 0, 0, 0, 0, 0, 0, 0, 0, 0, 0, 0, 0, 0, 0, 0, 0, 0, 0, 0, 0, 0, 0, 0, 0, 0, 0, 0, 0, 0, 0, 0, 0, 0, 0, 0, 0, 0, 0, 0, 0, 0, 1, 0, 0, 0, 0, 1, 0, 0, 0, 1, 0, 0, 0, 0, 0, 0, 0, 1, 0, 1, 1, 0, 0, 0, 0, 0, 0, 0, 0, 0, 0, 0, 0, 0, 1, 0, 1, 0, 0, 0, 0, 1, 0, 0, 0, 0, 0, 0, 0, 0, 0, 0, 0, 0, 0, 0, 0, 0, 0, 1, 0, 0, 0, 0, 0, 1, 0, 0, 0, 1, 0, 0, 0, 0, 0, 0, 0, 0, 0, 0, 0, 0, 0, 1, 0, 0, 0, 0, 0, 0, 0, 0, 1, 0, 0, 0, 1, 1, 1, 1, 1, 1, 1, 1, 1, 1, 2, 1, 1, 1, 1, 1, 1, 1, 2, 1, 1, 1, 1, 1, 1, 1, 1, 1, 1, 1, 1, 1, 1, 1, 1, 1, 1, 1, 1, 0, 1, 0, 1, 2, 1, 2, 1, 1, 1, 1, 1, 1, 1, 1, 1, 1, 1, 1, 1, 1, 1, 0, 1, 1, 1, 0, 1, 1, 1, 1, 1, 1, 1, 0, 1, 1, 1, 0, 1, 1, 1, 1, 1, 1, 1, 1, 1, 1, 1, 1, 1, 1, 1, 1, 1, 2, 1, 1, 1, 0]\n"
     ]
    }
   ],
   "source": [
    "clusters = find_closest_centroids(samples, initial_centroids)\n",
    "print(clusters)"
   ]
  },
  {
   "cell_type": "code",
   "execution_count": 157,
   "metadata": {},
   "outputs": [
    {
     "name": "stdout",
     "output_type": "stream",
     "text": [
      "[0 1 2]\n"
     ]
    }
   ],
   "source": [
    "cluster_labels = np.unique(clusters)\n",
    "print(cluster_labels)"
   ]
  },
  {
   "cell_type": "code",
   "execution_count": 181,
   "metadata": {},
   "outputs": [
    {
     "name": "stdout",
     "output_type": "stream",
     "text": [
      "[7.11938687 3.6166844 ]\n"
     ]
    }
   ],
   "source": [
    "cluster_labels = np.unique(clusters) # returns unique labels for each cluster in flat array\n",
    "#collect samples that corespond to each label\n",
    "centroids = []\n",
    "\n",
    "for label in cluster_labels:\n",
    "    sample_list = []\n",
    "    for i in range(len(clusters)):\n",
    "        if clusters[i] == cluster_labels[label]:\n",
    "            sample_list.append(samples[i])\n",
    "    cluster_mean = np.mean(np.array(sample_list),axis= 0) # row mean\n",
    "    centroids.append(cluster_mean.reshape((1,2)))\n",
    "new_centroids = np.concatenate(centroids, axis = 0)\n",
    "print(cluster_mean)\n"
   ]
  },
  {
   "cell_type": "code",
   "execution_count": 165,
   "metadata": {},
   "outputs": [
    {
     "name": "stdout",
     "output_type": "stream",
     "text": [
      "[0 1 2]\n"
     ]
    }
   ],
   "source": [
    "print(cluster_labels)"
   ]
  },
  {
   "cell_type": "code",
   "execution_count": 171,
   "metadata": {},
   "outputs": [],
   "source": [
    "def get_centroids(samples, clusters):\n",
    "    \"\"\"\n",
    "    Find the centroid given the samples and their cluster.\n",
    "    :param samples: samples.\n",
    "    :param clusters: list of clusters corresponding to each sample.\n",
    "    :return: an array of centroids.\n",
    "    \"\"\"\n",
    "    cluster_labels = np.unique(clusters) # returns unique labels for each cluster in flat array\n",
    "    #collect samples that corespond to each label\n",
    "    centroids = []\n",
    "    for label in cluster_labels:\n",
    "        sample_list = []\n",
    "        for i in range(len(clusters)):\n",
    "            #if cluster[posistion] == cluster label\n",
    "            if clusters[i] == cluster_labels[label]:\n",
    "                sample_list.append(samples[i])\n",
    "        cluster_mean = np.mean(np.array(sample_list),axis= 0) # row mean\n",
    "        centroids.append(cluster_mean.reshape((1,2)))\n",
    "    new_centroids = np.concatenate(centroids, axis = 0)\n",
    "    #import pdb; pdb.set_trace()\n",
    "    return new_centroids\n"
   ]
  },
  {
   "cell_type": "code",
   "execution_count": 176,
   "metadata": {},
   "outputs": [
    {
     "name": "stdout",
     "output_type": "stream",
     "text": [
      "[[2.42830111 3.15792418]\n",
      " [5.81350331 2.63365645]\n",
      " [7.11938687 3.6166844 ]]\n"
     ]
    }
   ],
   "source": [
    "\n",
    "clusters = find_closest_centroids(samples, initial_centroids)\n",
    "fin = get_centroids(samples, clusters)\n",
    "print(fin)"
   ]
  },
  {
   "cell_type": "code",
   "execution_count": 174,
   "metadata": {},
   "outputs": [
    {
     "name": "stdout",
     "output_type": "stream",
     "text": [
      "[array([[2.42830111, 3.15792418]]), array([[5.81350331, 2.63365645]]), array([[7.11938687, 3.6166844 ]])]\n"
     ]
    }
   ],
   "source": [
    "print(centroids)"
   ]
  },
  {
   "cell_type": "code",
   "execution_count": null,
   "metadata": {},
   "outputs": [],
   "source": []
  },
  {
   "cell_type": "code",
   "execution_count": null,
   "metadata": {},
   "outputs": [],
   "source": []
  },
  {
   "cell_type": "markdown",
   "metadata": {},
   "source": [
    "# 444"
   ]
  },
  {
   "cell_type": "code",
   "execution_count": 55,
   "metadata": {},
   "outputs": [
    {
     "name": "stdout",
     "output_type": "stream",
     "text": [
      "(1088000, 3)\n",
      "[[212 167 129]\n",
      " [213 168 130]\n",
      " [213 169 128]\n",
      " ...\n",
      " [204 235 238]\n",
      " [193 226 222]\n",
      " [156 190 184]]\n"
     ]
    }
   ],
   "source": [
    "#from k_means_clustering.py import \n",
    "import cv2\n",
    "img = cv2.imread('boston-1993606_1280.jpg')\n",
    "depth, rows, col = img.shape\n",
    "#reshape array\n",
    "samples = img.reshape(depth * rows, 3)\n",
    "print(samples.shape)\n",
    "print(samples)"
   ]
  },
  {
   "cell_type": "code",
   "execution_count": 81,
   "metadata": {},
   "outputs": [
    {
     "name": "stdout",
     "output_type": "stream",
     "text": [
      "[[ 23  21  21]\n",
      " [ 80  90 108]\n",
      " [141 138 140]\n",
      " [135 131 120]]\n"
     ]
    }
   ],
   "source": [
    "# random centroids\n",
    "shuffle_samples = np.random.permutation(samples)\n",
    "K=4\n",
    "centroids = shuffle_samples[0:K,:]\n",
    "print(centroids)"
   ]
  },
  {
   "cell_type": "code",
   "execution_count": 82,
   "metadata": {},
   "outputs": [],
   "source": [
    "#find closest cluster\n",
    "results = []\n",
    "\n",
    "for row in range(samples.shape[0]):\n",
    "    diff = samples[row] - centroids\n",
    "    distance = (diff[:,0] **2 + diff[:,1] **2 + diff[:,2] **2) ** .5\n",
    "    results.append(np.argmin(distance)) # return index - cluster assignment\n"
   ]
  },
  {
   "cell_type": "code",
   "execution_count": 83,
   "metadata": {},
   "outputs": [
    {
     "name": "stdout",
     "output_type": "stream",
     "text": [
      "1088000\n",
      "[0, 2, 1, 1, 1, 1, 1, 0, 0, 0]\n",
      "[[ 23  21  21]\n",
      " [ 80  90 108]\n",
      " [141 138 140]\n",
      " [135 131 120]]\n"
     ]
    }
   ],
   "source": [
    "print(len(results))\n",
    "print(results[0:10])\n",
    "print(centroids)\n"
   ]
  },
  {
   "cell_type": "code",
   "execution_count": 84,
   "metadata": {},
   "outputs": [
    {
     "name": "stdout",
     "output_type": "stream",
     "text": [
      "[0 1 2 3]\n"
     ]
    },
    {
     "ename": "AttributeError",
     "evalue": "'list' object has no attribute 'shape'",
     "output_type": "error",
     "traceback": [
      "\u001b[0;31m---------------------------------------------------------------------------\u001b[0m",
      "\u001b[0;31mAttributeError\u001b[0m                            Traceback (most recent call last)",
      "\u001b[0;32m<ipython-input-84-98ee905f02ce>\u001b[0m in \u001b[0;36m<module>\u001b[0;34m\u001b[0m\n\u001b[1;32m      1\u001b[0m \u001b[0mprint\u001b[0m\u001b[0;34m(\u001b[0m\u001b[0mnp\u001b[0m\u001b[0;34m.\u001b[0m\u001b[0munique\u001b[0m\u001b[0;34m(\u001b[0m\u001b[0mresults\u001b[0m\u001b[0;34m)\u001b[0m\u001b[0;34m)\u001b[0m\u001b[0;34m\u001b[0m\u001b[0;34m\u001b[0m\u001b[0m\n\u001b[0;32m----> 2\u001b[0;31m \u001b[0mprint\u001b[0m\u001b[0;34m(\u001b[0m\u001b[0mresults\u001b[0m\u001b[0;34m.\u001b[0m\u001b[0mshape\u001b[0m\u001b[0;34m)\u001b[0m\u001b[0;34m\u001b[0m\u001b[0;34m\u001b[0m\u001b[0m\n\u001b[0m",
      "\u001b[0;31mAttributeError\u001b[0m: 'list' object has no attribute 'shape'"
     ]
    }
   ],
   "source": [
    "print(np.unique(results))\n",
    "print(results.shape)"
   ]
  },
  {
   "cell_type": "code",
   "execution_count": 94,
   "metadata": {},
   "outputs": [],
   "source": [
    "#get centroids: for each centroid, the mean of points that were assigned to it  \n",
    "#returns new centroids \n",
    "\n",
    "cluster_label = np.unique(results)\n",
    "centroids = []\n",
    "\n",
    "for label in cluster_label:\n",
    "    rows_cluster = [] #store pixel rows for each cluster\n",
    "    for i in range(len(results)):\n",
    "        if results[i] == label:\n",
    "            rows_cluster.append(i)\n",
    "        \n",
    "    cluster_mean = np.mean(samples[rows_cluster,:], axis=0)\n",
    "    centroids.append(cluster_mean.reshape(1,3))\n",
    "new_centroids = np.concatenate(centroids, axis=0)\n",
    "            \n"
   ]
  },
  {
   "cell_type": "code",
   "execution_count": 96,
   "metadata": {},
   "outputs": [
    {
     "name": "stdout",
     "output_type": "stream",
     "text": [
      "[[127.6136788  133.24793588 125.70211503]\n",
      " [130.64592982 136.22275254 128.47250067]\n",
      " [128.2535233  135.10843936 128.04651434]\n",
      " [130.74009753 136.35204867 127.84213408]]\n",
      "(4, 3)\n"
     ]
    }
   ],
   "source": [
    "# print(len(rows_cluster))\n",
    "# print(rows_cluster[0:10])\n",
    "# print(cluster_mean)\n",
    "# print(centroids)\n",
    "print(new_centroids)\n",
    "print(new_centroids.shape)"
   ]
  },
  {
   "cell_type": "code",
   "execution_count": 135,
   "metadata": {},
   "outputs": [
    {
     "name": "stdout",
     "output_type": "stream",
     "text": [
      "[[[1 2 5]\n",
      "  [3 4 5]]\n",
      "\n",
      " [[5 6 5]\n",
      "  [7 8 5]]]\n",
      "[[2. 3. 5.]\n",
      " [6. 7. 5.]]\n"
     ]
    }
   ],
   "source": [
    "x = np.array([[[1, 2,5], [3, 4,5]], [[5, 6,5], [7, 8,5]]])\n",
    "print(x)\n",
    "x2 = np.mean(x[:,:,:], axis=1)\n",
    "print(x2)"
   ]
  },
  {
   "cell_type": "code",
   "execution_count": null,
   "metadata": {},
   "outputs": [],
   "source": [
    "for sheet in cent0: \n",
    "    centroid1 = np.mean(samples[cent1,:], axis=0)\n",
    "    "
   ]
  },
  {
   "cell_type": "code",
   "execution_count": null,
   "metadata": {},
   "outputs": [],
   "source": []
  },
  {
   "cell_type": "code",
   "execution_count": 71,
   "metadata": {},
   "outputs": [
    {
     "name": "stdout",
     "output_type": "stream",
     "text": [
      "(850, 1280, 3)\n"
     ]
    }
   ],
   "source": []
  },
  {
   "cell_type": "markdown",
   "metadata": {},
   "source": [
    "## 2"
   ]
  },
  {
   "cell_type": "markdown",
   "metadata": {},
   "source": [
    "## longitude latitude for closeness - change col to numpy array and cluster\n",
    "## price for expensiveness"
   ]
  },
  {
   "cell_type": "code",
   "execution_count": 30,
   "metadata": {},
   "outputs": [],
   "source": [
    "from sklearn.cluster import KMeans\n",
    "import pandas as pd\n",
    "import matplotlib.pyplot as plt \n",
    "from sklearn import preprocessing"
   ]
  },
  {
   "cell_type": "code",
   "execution_count": 2,
   "metadata": {},
   "outputs": [
    {
     "name": "stdout",
     "output_type": "stream",
     "text": [
      "[[ 15  39]\n",
      " [ 15  81]\n",
      " [ 16   6]\n",
      " [ 16  77]\n",
      " [ 17  40]\n",
      " [ 17  76]\n",
      " [ 18   6]\n",
      " [ 18  94]\n",
      " [ 19   3]\n",
      " [ 19  72]\n",
      " [ 19  14]\n",
      " [ 19  99]\n",
      " [ 20  15]\n",
      " [ 20  77]\n",
      " [ 20  13]\n",
      " [ 20  79]\n",
      " [ 21  35]\n",
      " [ 21  66]\n",
      " [ 23  29]\n",
      " [ 23  98]\n",
      " [ 24  35]\n",
      " [ 24  73]\n",
      " [ 25   5]\n",
      " [ 25  73]\n",
      " [ 28  14]\n",
      " [ 28  82]\n",
      " [ 28  32]\n",
      " [ 28  61]\n",
      " [ 29  31]\n",
      " [ 29  87]\n",
      " [ 30   4]\n",
      " [ 30  73]\n",
      " [ 33   4]\n",
      " [ 33  92]\n",
      " [ 33  14]\n",
      " [ 33  81]\n",
      " [ 34  17]\n",
      " [ 34  73]\n",
      " [ 37  26]\n",
      " [ 37  75]\n",
      " [ 38  35]\n",
      " [ 38  92]\n",
      " [ 39  36]\n",
      " [ 39  61]\n",
      " [ 39  28]\n",
      " [ 39  65]\n",
      " [ 40  55]\n",
      " [ 40  47]\n",
      " [ 40  42]\n",
      " [ 40  42]\n",
      " [ 42  52]\n",
      " [ 42  60]\n",
      " [ 43  54]\n",
      " [ 43  60]\n",
      " [ 43  45]\n",
      " [ 43  41]\n",
      " [ 44  50]\n",
      " [ 44  46]\n",
      " [ 46  51]\n",
      " [ 46  46]\n",
      " [ 46  56]\n",
      " [ 46  55]\n",
      " [ 47  52]\n",
      " [ 47  59]\n",
      " [ 48  51]\n",
      " [ 48  59]\n",
      " [ 48  50]\n",
      " [ 48  48]\n",
      " [ 48  59]\n",
      " [ 48  47]\n",
      " [ 49  55]\n",
      " [ 49  42]\n",
      " [ 50  49]\n",
      " [ 50  56]\n",
      " [ 54  47]\n",
      " [ 54  54]\n",
      " [ 54  53]\n",
      " [ 54  48]\n",
      " [ 54  52]\n",
      " [ 54  42]\n",
      " [ 54  51]\n",
      " [ 54  55]\n",
      " [ 54  41]\n",
      " [ 54  44]\n",
      " [ 54  57]\n",
      " [ 54  46]\n",
      " [ 57  58]\n",
      " [ 57  55]\n",
      " [ 58  60]\n",
      " [ 58  46]\n",
      " [ 59  55]\n",
      " [ 59  41]\n",
      " [ 60  49]\n",
      " [ 60  40]\n",
      " [ 60  42]\n",
      " [ 60  52]\n",
      " [ 60  47]\n",
      " [ 60  50]\n",
      " [ 61  42]\n",
      " [ 61  49]\n",
      " [ 62  41]\n",
      " [ 62  48]\n",
      " [ 62  59]\n",
      " [ 62  55]\n",
      " [ 62  56]\n",
      " [ 62  42]\n",
      " [ 63  50]\n",
      " [ 63  46]\n",
      " [ 63  43]\n",
      " [ 63  48]\n",
      " [ 63  52]\n",
      " [ 63  54]\n",
      " [ 64  42]\n",
      " [ 64  46]\n",
      " [ 65  48]\n",
      " [ 65  50]\n",
      " [ 65  43]\n",
      " [ 65  59]\n",
      " [ 67  43]\n",
      " [ 67  57]\n",
      " [ 67  56]\n",
      " [ 67  40]\n",
      " [ 69  58]\n",
      " [ 69  91]\n",
      " [ 70  29]\n",
      " [ 70  77]\n",
      " [ 71  35]\n",
      " [ 71  95]\n",
      " [ 71  11]\n",
      " [ 71  75]\n",
      " [ 71   9]\n",
      " [ 71  75]\n",
      " [ 72  34]\n",
      " [ 72  71]\n",
      " [ 73   5]\n",
      " [ 73  88]\n",
      " [ 73   7]\n",
      " [ 73  73]\n",
      " [ 74  10]\n",
      " [ 74  72]\n",
      " [ 75   5]\n",
      " [ 75  93]\n",
      " [ 76  40]\n",
      " [ 76  87]\n",
      " [ 77  12]\n",
      " [ 77  97]\n",
      " [ 77  36]\n",
      " [ 77  74]\n",
      " [ 78  22]\n",
      " [ 78  90]\n",
      " [ 78  17]\n",
      " [ 78  88]\n",
      " [ 78  20]\n",
      " [ 78  76]\n",
      " [ 78  16]\n",
      " [ 78  89]\n",
      " [ 78   1]\n",
      " [ 78  78]\n",
      " [ 78   1]\n",
      " [ 78  73]\n",
      " [ 79  35]\n",
      " [ 79  83]\n",
      " [ 81   5]\n",
      " [ 81  93]\n",
      " [ 85  26]\n",
      " [ 85  75]\n",
      " [ 86  20]\n",
      " [ 86  95]\n",
      " [ 87  27]\n",
      " [ 87  63]\n",
      " [ 87  13]\n",
      " [ 87  75]\n",
      " [ 87  10]\n",
      " [ 87  92]\n",
      " [ 88  13]\n",
      " [ 88  86]\n",
      " [ 88  15]\n",
      " [ 88  69]\n",
      " [ 93  14]\n",
      " [ 93  90]\n",
      " [ 97  32]\n",
      " [ 97  86]\n",
      " [ 98  15]\n",
      " [ 98  88]\n",
      " [ 99  39]\n",
      " [ 99  97]\n",
      " [101  24]\n",
      " [101  68]\n",
      " [103  17]\n",
      " [103  85]\n",
      " [103  23]\n",
      " [103  69]\n",
      " [113   8]\n",
      " [113  91]\n",
      " [120  16]\n",
      " [120  79]\n",
      " [126  28]\n",
      " [126  74]\n",
      " [137  18]\n",
      " [137  83]]\n"
     ]
    }
   ],
   "source": [
    "dataset = pd.read_csv('Mall_Customers.csv')\n",
    "x = dataset.iloc[:, [3, 4]].values\n",
    "print(x)"
   ]
  },
  {
   "cell_type": "code",
   "execution_count": 32,
   "metadata": {},
   "outputs": [
    {
     "data": {
      "image/png": "[encoded data removed]",
      "text/plain": [
       "<Figure size 432x288 with 1 Axes>"
      ]
     },
     "metadata": {
      "needs_background": "light"
     },
     "output_type": "display_data"
    }
   ],
   "source": [
    "wcss = []\n",
    "for i in range(1, 11): \n",
    "    kmeans = KMeans(n_clusters = i, init = 'k-means++', max_iter = 300, n_init = 10, random_state = 0)\n",
    "    kmeans.fit(dfs)\n",
    "    wcss.append(kmeans.inertia_)\n",
    "plt.plot(range(1,11), wcss)\n",
    "plt.title(\"Elbow method applied to Mall_customers dataset\")\n",
    "plt.xlabel(\"number of clusters\")\n",
    "plt.ylabel(\"wcss\")\n",
    "plt.show()"
   ]
  },
  {
   "cell_type": "code",
   "execution_count": 27,
   "metadata": {},
   "outputs": [
    {
     "name": "stdout",
     "output_type": "stream",
     "text": [
      "[[-73.98377  40.75362 175.     ]\n",
      " [-73.95976  40.68514  74.     ]\n",
      " [-73.95596  40.68688  60.     ]\n",
      " ...\n",
      " [-73.9334   40.80054  35.     ]\n",
      " [-73.98242  40.74033 295.     ]\n",
      " [-73.92707  40.69648 500.     ]]\n"
     ]
    }
   ],
   "source": [
    "dataset = pd.read_csv('listings.csv')\n",
    "\n",
    "dataset['price'] = dataset['price'].replace('[\\$,]', '', regex=True).astype(float)\n",
    "df = dataset.loc[:, [\"longitude\",\"latitude\",\"price\"]].values\n",
    "print(df)\n"
   ]
  },
  {
   "cell_type": "code",
   "execution_count": 28,
   "metadata": {},
   "outputs": [
    {
     "name": "stdout",
     "output_type": "stream",
     "text": [
      "(36923, 3)\n"
     ]
    }
   ],
   "source": [
    "print(df.shape)"
   ]
  },
  {
   "cell_type": "code",
   "execution_count": 31,
   "metadata": {},
   "outputs": [
    {
     "name": "stdout",
     "output_type": "stream",
     "text": [
      "              0         1       2\n",
      "0      0.484111  0.603241  0.0175\n",
      "1      0.529500  0.434588  0.0074\n",
      "2      0.536683  0.438873  0.0060\n",
      "3      0.485283  0.630480  0.0065\n",
      "4      0.515378  0.721850  0.0075\n",
      "...         ...       ...     ...\n",
      "36918  0.491786  0.568737  0.0199\n",
      "36919  0.481521  0.669712  0.0205\n",
      "36920  0.579330  0.718796  0.0035\n",
      "36921  0.486663  0.570510  0.0295\n",
      "36922  0.591297  0.462516  0.0500\n",
      "\n",
      "[36923 rows x 3 columns]\n"
     ]
    }
   ],
   "source": [
    "\n",
    "min_max_scaler = preprocessing.MinMaxScaler()\n",
    "x_scaled = min_max_scaler.fit_transform(df)\n",
    "dfs = pd.DataFrame(x_scaled)\n",
    "print(dfs)"
   ]
  },
  {
   "cell_type": "code",
   "execution_count": null,
   "metadata": {},
   "outputs": [],
   "source": []
  }
 ],
 "metadata": {
  "kernelspec": {
   "display_name": "Python 3",
   "language": "python",
   "name": "python3"
  },
  "language_info": {
   "codemirror_mode": {
    "name": "ipython",
    "version": 3
   },
   "file_extension": ".py",
   "mimetype": "text/x-python",
   "name": "python",
   "nbconvert_exporter": "python",
   "pygments_lexer": "ipython3",
   "version": "3.7.4"
  }
 },
 "nbformat": 4,
 "nbformat_minor": 2
}

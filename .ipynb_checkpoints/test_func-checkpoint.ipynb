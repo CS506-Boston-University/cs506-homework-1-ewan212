{
 "cells": [
  {
   "cell_type": "code",
   "execution_count": 20,
   "metadata": {},
   "outputs": [],
   "source": [
    "from __future__ import absolute_import\n",
    "\n",
    "import random\n",
    "import numpy as np\n",
    "\n",
    "import matplotlib.pyplot as plt\n",
    "import cv2\n",
    "\n",
    "import scipy.io\n",
    "import scipy.misc"
   ]
  },
  {
   "cell_type": "code",
   "execution_count": null,
   "metadata": {},
   "outputs": [],
   "source": [
    "def choose_random_centroids(samples, K):\n",
    "    \"\"\"\n",
    "    Randomly choose K centroids from samples.\n",
    "    :param samples: samples.\n",
    "    :param K: K as in K-means. Number of clusters.\n",
    "    :return: an array of centroids.\n",
    "    \"\"\"\n",
    "    shuffle_samples = np.random.permutation(samples)\n",
    "\n",
    "    centroids = shuffle_samples[0:K,:]\n",
    "    \n",
    "    return centroids"
   ]
  },
  {
   "cell_type": "code",
   "execution_count": 21,
   "metadata": {},
   "outputs": [],
   "source": [
    "\n",
    "\n",
    "def find_closest_centroids(samples, centroids):\n",
    "    \"\"\"\n",
    "    Find the closest centroid for all samples.\n",
    "\n",
    "    :param samples: samples.\n",
    "    :param centroids: an array of centroids.\n",
    "    :return: a list of cluster_id assignment.\n",
    "    \"\"\"\n",
    "\n",
    "    results = []\n",
    "\n",
    "    for row in range(samples.shape[0]):\n",
    "        diff = samples[row] - centroids\n",
    "        distance = (diff[:,0] **2 + diff[:,1] **2 + diff[:,2] **2) ** .5\n",
    "        results.append(np.argmin(distance)) # return index - cluster assignment\n",
    "        \n",
    "    return results"
   ]
  },
  {
   "cell_type": "code",
   "execution_count": 24,
   "metadata": {},
   "outputs": [],
   "source": [
    "def run_k_means(samples, centroids, n_iter):\n",
    "    \"\"\"\n",
    "    Run K-means algorithm. The number of clusters 'K' is defined by the size of initial_centroids\n",
    "    :param samples: samples.\n",
    "    :param initial_centroids: a list of initial centroids.\n",
    "    :param n_iter: number of iterations.\n",
    "    :return: a pair of cluster assignment and history of centroids.\n",
    "    \"\"\"\n",
    "\n",
    "    centroid_history = []\n",
    "    current_centroids = centroids\n",
    "    clusters = []\n",
    "    for iteration in range(n_iter):\n",
    "        centroid_history.append(current_centroids)\n",
    "        print(\"Iteration %d, Finding centroids for all samples...\" % iteration)\n",
    "        clusters = find_closest_centroids(samples, current_centroids)\n",
    "        print(\"Recompute centroids...\")\n",
    "        current_centroids = get_centroids(samples, clusters)\n",
    "\n",
    "    return clusters, centroid_history"
   ]
  },
  {
   "cell_type": "code",
   "execution_count": null,
   "metadata": {},
   "outputs": [],
   "source": [
    "print(y)"
   ]
  },
  {
   "cell_type": "code",
   "execution_count": 30,
   "metadata": {},
   "outputs": [],
   "source": [
    "def get_centroids(samples, clusters):\n",
    "    \"\"\"\n",
    "    Find the centroid given the samples and their cluster.\n",
    "    :param samples: samples.\n",
    "    :param clusters: list of clusters corresponding to each sample.\n",
    "    :return: an array of centroids.\n",
    "    \"\"\"\n",
    "    cluster_label = np.unique(clusters)\n",
    "    centroids = []\n",
    "\n",
    "    for label in cluster_label:\n",
    "        rows_cluster = [] #store pixel rows for each cluster\n",
    "        for i in range(len(clusters)):\n",
    "            if clusters[i] == label:\n",
    "                rows_cluster.append(i)\n",
    "            \n",
    "        cluster_mean = np.mean(samples[rows_cluster,:], axis=0)\n",
    "        centroids.append(cluster_mean.reshape(1,3))\n",
    "    new_centroids = np.concatenate(centroids, axis=0)\n",
    "\n",
    "    return new_centroids"
   ]
  },
  {
   "cell_type": "code",
   "execution_count": 13,
   "metadata": {},
   "outputs": [],
   "source": [
    "img = cv2.imread('boston-1993606_1280.jpg')\n",
    "depth, rows, columns = img.shape\n",
    "samples = img.reshape(depth*rows, columns)\n",
    "centroids = choose_random_centroids(samples, 4)"
   ]
  },
  {
   "cell_type": "code",
   "execution_count": 14,
   "metadata": {},
   "outputs": [
    {
     "name": "stdout",
     "output_type": "stream",
     "text": [
      "[[ 77  67  50]\n",
      " [150 147 139]\n",
      " [163 180 201]\n",
      " [104 115 137]]\n"
     ]
    }
   ],
   "source": [
    "print(centroids)"
   ]
  },
  {
   "cell_type": "code",
   "execution_count": 17,
   "metadata": {},
   "outputs": [
    {
     "name": "stdout",
     "output_type": "stream",
     "text": [
      "1088000\n"
     ]
    }
   ],
   "source": [
    "x = find_closest_centroids(samples, centroids)\n",
    "print(len(x))"
   ]
  },
  {
   "cell_type": "code",
   "execution_count": 18,
   "metadata": {},
   "outputs": [],
   "source": []
  },
  {
   "cell_type": "code",
   "execution_count": 31,
   "metadata": {},
   "outputs": [
    {
     "name": "stdout",
     "output_type": "stream",
     "text": [
      "Iteration 0, Finding centroids for all samples...\n",
      "Recompute centroids...\n",
      "Iteration 1, Finding centroids for all samples...\n",
      "Recompute centroids...\n",
      "Iteration 2, Finding centroids for all samples...\n",
      "Recompute centroids...\n"
     ]
    }
   ],
   "source": [
    "y = run_k_means(samples, centroids, 3) #clusters and centroid history"
   ]
  },
  {
   "cell_type": "code",
   "execution_count": 35,
   "metadata": {},
   "outputs": [
    {
     "name": "stdout",
     "output_type": "stream",
     "text": [
      "2\n"
     ]
    }
   ],
   "source": [
    "print(len(y))"
   ]
  },
  {
   "cell_type": "code",
   "execution_count": 47,
   "metadata": {},
   "outputs": [
    {
     "name": "stdout",
     "output_type": "stream",
     "text": [
      "3\n",
      "(4, 3)\n",
      "(4, 3)\n",
      "(4, 3)\n"
     ]
    }
   ],
   "source": [
    "print(len(y[1]))\n",
    "print(y[1][0].shape)\n",
    "print(y[1][1].shape)\n",
    "print(y[1][2].shape)"
   ]
  },
  {
   "cell_type": "code",
   "execution_count": 54,
   "metadata": {},
   "outputs": [
    {
     "name": "stdout",
     "output_type": "stream",
     "text": [
      "[[129.71205826 135.38550623 127.12477715]\n",
      " [131.5316525  136.13044069 127.46871233]\n",
      " [126.98501663 134.59481918 128.19414258]\n",
      " [128.83861976 134.71961494 127.27018782]]\n"
     ]
    }
   ],
   "source": [
    "\n",
    "print(y[1][1])"
   ]
  },
  {
   "cell_type": "code",
   "execution_count": 57,
   "metadata": {},
   "outputs": [
    {
     "name": "stdout",
     "output_type": "stream",
     "text": [
      "Iteration 0, Finding centroids for all samples...\n",
      "Recompute centroids...\n",
      "Iteration 1, Finding centroids for all samples...\n",
      "Recompute centroids...\n",
      "Iteration 2, Finding centroids for all samples...\n",
      "Recompute centroids...\n",
      "Iteration 3, Finding centroids for all samples...\n",
      "Recompute centroids...\n",
      "Iteration 4, Finding centroids for all samples...\n",
      "Recompute centroids...\n",
      "Iteration 5, Finding centroids for all samples...\n",
      "Recompute centroids...\n",
      "Iteration 6, Finding centroids for all samples...\n",
      "Recompute centroids...\n",
      "Iteration 7, Finding centroids for all samples...\n",
      "Recompute centroids...\n",
      "Iteration 8, Finding centroids for all samples...\n",
      "Recompute centroids...\n",
      "Iteration 9, Finding centroids for all samples...\n",
      "Recompute centroids...\n",
      "Iteration 10, Finding centroids for all samples...\n",
      "Recompute centroids...\n",
      "Iteration 11, Finding centroids for all samples...\n",
      "Recompute centroids...\n",
      "Iteration 12, Finding centroids for all samples...\n",
      "Recompute centroids...\n",
      "Iteration 13, Finding centroids for all samples...\n",
      "Recompute centroids...\n",
      "Iteration 14, Finding centroids for all samples...\n",
      "Recompute centroids...\n",
      "Iteration 15, Finding centroids for all samples...\n",
      "Recompute centroids...\n",
      "Iteration 16, Finding centroids for all samples...\n",
      "Recompute centroids...\n",
      "Iteration 17, Finding centroids for all samples...\n",
      "Recompute centroids...\n",
      "Iteration 18, Finding centroids for all samples...\n",
      "Recompute centroids...\n",
      "Iteration 19, Finding centroids for all samples...\n",
      "Recompute centroids...\n"
     ]
    }
   ],
   "source": [
    "\n",
    "\n",
    "img = cv2.imread('boston-1993606_1280.jpg')\n",
    "depth, rows, col = img.shape\n",
    "\n",
    "#reshape array\n",
    "samples = img.reshape(depth * rows, 3)\n",
    "\n",
    "#choose centroids, select k value\n",
    "centroids = choose_random_centroids(samples, 4)\n",
    "\n",
    "#k-means\n",
    "clusters, centroid_history = run_k_means(samples, centroids, 20)\n",
    "\n",
    "\n"
   ]
  },
  {
   "cell_type": "code",
   "execution_count": 66,
   "metadata": {},
   "outputs": [],
   "source": [
    "replaced_pixel = [] #centroid and their cluster\n",
    "for cluster in clusters:\n",
    "    best_centroid = np.array(centroid_history[-1][cluster]) # replace centroids with latest iteration \n",
    "    replaced_pixel.append(best_centroid)\n",
    "new_image = np.concatenate(replaced_pixel) # grouping into np array\n",
    "new_image_int = new_image.astype('uint8') # converting data types\n",
    "final_image = new_image_int.reshape(depth,rows,columns)  # reshaping the same as input image"
   ]
  },
  {
   "cell_type": "code",
   "execution_count": 69,
   "metadata": {},
   "outputs": [
    {
     "name": "stdout",
     "output_type": "stream",
     "text": [
      "1088000\n",
      "[array([206.58368875, 191.05737575, 172.13449983]), array([206.58368875, 191.05737575, 172.13449983]), array([206.58368875, 191.05737575, 172.13449983]), array([206.58368875, 191.05737575, 172.13449983]), array([206.58368875, 191.05737575, 172.13449983])]\n"
     ]
    }
   ],
   "source": [
    "print(len(replaced_pixel))\n",
    "print(replaced_pixel[0:5])"
   ]
  },
  {
   "cell_type": "code",
   "execution_count": null,
   "metadata": {},
   "outputs": [],
   "source": [
    "print(replaced_pixel)"
   ]
  },
  {
   "cell_type": "code",
   "execution_count": 63,
   "metadata": {},
   "outputs": [
    {
     "name": "stdout",
     "output_type": "stream",
     "text": [
      "20\n",
      "[[ 88.29754048 107.61447301 102.82333081]\n",
      " [206.58368875 191.05737575 172.13449983]\n",
      " [ 41.10136071  55.89159297  50.3182471 ]\n",
      " [127.66680955 142.80023209 145.11997435]]\n"
     ]
    }
   ],
   "source": [
    "print(len(centroid_history))\n",
    "print(centroid_history[-1]) # 4 clusters, 4 centroids"
   ]
  },
  {
   "cell_type": "code",
   "execution_count": null,
   "metadata": {},
   "outputs": [],
   "source": [
    "# reassign "
   ]
  }
 ],
 "metadata": {
  "kernelspec": {
   "display_name": "Python 3",
   "language": "python",
   "name": "python3"
  },
  "language_info": {
   "codemirror_mode": {
    "name": "ipython",
    "version": 3
   },
   "file_extension": ".py",
   "mimetype": "text/x-python",
   "name": "python",
   "nbconvert_exporter": "python",
   "pygments_lexer": "ipython3",
   "version": "3.7.4"
  }
 },
 "nbformat": 4,
 "nbformat_minor": 2
}
